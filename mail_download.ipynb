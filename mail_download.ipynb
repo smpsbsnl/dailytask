{
  "nbformat": 4,
  "nbformat_minor": 0,
  "metadata": {
    "colab": {
      "provenance": []
    },
    "kernelspec": {
      "name": "python3",
      "display_name": "Python 3"
    },
    "language_info": {
      "name": "python"
    }
  },
  "cells": [
    {
      "cell_type": "code",
      "source": [
        "import imaplib\n",
        "import email\n",
        "from email.header import decode_header\n",
        "from google.colab import drive\n",
        "import os\n",
        "from datetime import datetime\n",
        "\n",
        "# Mount Google Drive\n",
        "drive.mount('/content/drive')\n",
        "\n",
        "# Outlook credentials and server details\n",
        "username = \"smpsbsnl@outlook.com\"\n",
        "password = \"Silamparasu#31\"\n",
        "mail_server = \"imap-mail.outlook.com\"\n",
        "\n",
        "# Establish a connection to the mail server\n",
        "mail = imaplib.IMAP4_SSL(mail_server)\n",
        "\n",
        "# Login to your Outlook account\n",
        "mail.login(username, password)\n",
        "\n",
        "# Select the mailbox you want to fetch emails from (e.g., 'inbox')\n",
        "mail.select(\"inbox\")\n",
        "\n",
        "# Search for emails based on criteria (e.g., emails from a specific sender)\n",
        "status, messages = mail.search(None, '(UNSEEN FROM \"smpsbsnl@gmail.com\")')\n",
        "\n",
        "# Get the list of email IDs\n",
        "email_ids = messages[0].split()\n",
        "\n",
        "# Get today's date in the format YYYYMMDD\n",
        "today_date = datetime.now().strftime('%Y%m%d')\n",
        "\n",
        "# Specify the directory where you want to save the attachments in Google Drive\n",
        "download_directory = f'/content/drive/My Drive/Data/'\n",
        "\n",
        "# Create the directory if it doesn't exist\n",
        "os.makedirs(download_directory, exist_ok=True)\n",
        "\n",
        "# Loop through the email IDs and download attachments\n",
        "for email_id in email_ids:\n",
        "    _, msg_parts = mail.fetch(email_id, \"(RFC822)\")\n",
        "    email_body = msg_parts[0][1]\n",
        "    msg = email.message_from_bytes(email_body)\n",
        "\n",
        "    for part in msg.walk():\n",
        "        if part.get_content_maintype() == \"multipart\":\n",
        "            continue\n",
        "        if part.get(\"Content-Disposition\") is None:\n",
        "            continue\n",
        "\n",
        "        filename = part.get_filename()\n",
        "        if filename:\n",
        "            # Decode the filename if it's encoded\n",
        "            decoded_filename = decode_header(filename)[0][0]\n",
        "            if isinstance(decoded_filename, bytes):\n",
        "                decoded_filename = decoded_filename.decode()\n",
        "\n",
        "            # Save the attachment to Google Drive with today's date as the filename\n",
        "            attachment_path = os.path.join(download_directory, today_date )\n",
        "            with open(attachment_path, \"wb\") as attachment_file:\n",
        "                attachment_file.write(part.get_payload(decode=True))\n",
        "\n",
        "            print(f\"Attachment '{decoded_filename}' saved to Google Drive: {attachment_path}\")\n",
        "\n",
        "# Logout and close the connection\n",
        "mail.logout()\n"
      ],
      "metadata": {
        "colab": {
          "base_uri": "https://localhost:8080/"
        },
        "id": "9T4RQts-KkVL",
        "outputId": "cc644bb5-8abd-4d67-d595-23930c1cecdb"
      },
      "execution_count": 22,
      "outputs": [
        {
          "output_type": "stream",
          "name": "stdout",
          "text": [
            "Drive already mounted at /content/drive; to attempt to forcibly remount, call drive.mount(\"/content/drive\", force_remount=True).\n",
            "Attachment 'Duties_responsibilities_NSS JAN 2023 (1).docx' saved to Google Drive: /content/drive/My Drive/Data/20231103\n"
          ]
        },
        {
          "output_type": "execute_result",
          "data": {
            "text/plain": [
              "('BYE', [b'Microsoft Exchange Server IMAP4 server signing off.'])"
            ]
          },
          "metadata": {},
          "execution_count": 22
        }
      ]
    }
  ]
}